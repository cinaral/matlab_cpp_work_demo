{
 "cells": [
  {
   "cell_type": "markdown",
   "source": [
    "We consider a first-order low pass filter. Let $y(t)$ be the filtered version of $x(t)$ with a discrete first order filter of time constant $\\tau$, \r\n",
    "$$ H(s) \\triangleq \\frac{Y(s)}{X(s)} = \\frac{1}{\\tau s + 1}$$\r\n",
    "\r\n",
    "We discretize using bilinear transform with a time step of $T$."
   ],
   "metadata": {}
  },
  {
   "cell_type": "code",
   "execution_count": 3,
   "source": [
    "%* MATLAB and symbolic toolbox is required\r\n",
    "syms s z T tau\r\n",
    "H = s/(tau*s + 1);\r\n",
    "[num, den] = numden(subs(H, s, 2/T*(z - 1)/(z + 1)))"
   ],
   "outputs": [
    {
     "output_type": "stream",
     "name": "stdout",
     "text": [
      "num =\n",
      "2*z - 2\n",
      "den =\n",
      "T - 2*tau + T*z + 2*tau*z\n"
     ]
    },
    {
     "output_type": "stream",
     "name": "stderr",
     "text": []
    }
   ],
   "metadata": {}
  },
  {
   "cell_type": "markdown",
   "source": [
    "$$\\frac{Y(z)}{X(z)} = \\frac{T + Tz^{-1}}{(T + 2\\tau) + (T - 2\\tau)z^{-1}}$$\r\n"
   ],
   "metadata": {}
  },
  {
   "cell_type": "markdown",
   "source": [
    "Let input be a sinusoidal input signal,\r\n",
    "$$x(t) = A\\sin(\\omega t)$$\r\n",
    "\r\n",
    "The impulse response of this system is,\r\n",
    "$$h(t) = \\frac{1}{\\tau}e^{-\\frac{1}{\\tau} t}$$\r\n",
    "\r\n",
    "Sudden application of the sinusoidal input to system at rest will give the total solution, \r\n",
    "$$\\begin{align*}\r\n",
    "y(t) &= \\int_0^t F(r) h(t - r) \\mathrm{d}r\\\\\r\n",
    "y(t) &= \\frac{A e^{-\\frac{1}{\\tau} t}}{\\tau} \\int_0^t \\sin(\\omega r) e^{\\frac{1}{\\tau}r} \\mathrm{d}r \\\\\r\n",
    "y(t) &= \\frac{A}{\\tau^2\\omega^2 + 1} \\left(\\sin(\\omega t) - \\tau \\omega cos(\\omega t) + \\tau \\omega e^{-\\frac{1}{\\tau} t}\\right)\r\n",
    "\\end{align*}$$\r\n",
    "\r\n",
    "If we had focused on the steady state response we could write,\r\n",
    "$$\\begin{align*}\r\n",
    "y_{ss}(t) &= \\left|H(s)\\right| A\\sin(\\omega t) + \\angle H(s) \\\\\r\n",
    "\\left|H(s)\\right| &= \\frac{1}{\\tau^2\\omega^2 + 1} \\\\\r\n",
    "\\angle H(s) &= -\\tan^{-1}(\\tau\\omega)\r\n",
    "\\end{align*}$$\r\n",
    "but this is inaccurate until the transients die out."
   ],
   "metadata": {}
  }
 ],
 "metadata": {
  "orig_nbformat": 4,
  "language_info": {
   "name": "matlab",
   "version": "9.11.0.1809720 (R2021b) Update 1",
   "mimetype": "text/x-matlab",
   "file_extension": ".m",
   "pygments_lexer": "matlab",
   "codemirror_mode": "octave",
   "nbconvert_exporter": "imatlab._exporter.MatlabExporter"
  },
  "kernelspec": {
   "name": "imatlab",
   "display_name": "MATLAB",
   "language": "matlab"
  }
 },
 "nbformat": 4,
 "nbformat_minor": 2
}